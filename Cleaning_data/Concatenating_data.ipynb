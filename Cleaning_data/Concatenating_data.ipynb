{
 "cells": [
  {
   "cell_type": "markdown",
   "metadata": {},
   "source": [
    "### Concatenating data"
   ]
  },
  {
   "cell_type": "code",
   "execution_count": 32,
   "metadata": {},
   "outputs": [],
   "source": [
    "import pandas as pd"
   ]
  },
  {
   "cell_type": "code",
   "execution_count": 33,
   "metadata": {},
   "outputs": [],
   "source": [
    "#uber1 april 2014\n",
    "uber1 = pd.read_csv (r'nyc_uber2014\\nyc_uber_april2014.csv')\n",
    "#uber2 may 2014\n",
    "uber2 = pd.read_csv (r'nyc_uber2014\\nyc_uber_may2014.csv')\n",
    "#uber3 june 2014\n",
    "uber3 = pd.read_csv (r'nyc_uber2014\\nyc_uber_june2014.csv')"
   ]
  },
  {
   "cell_type": "code",
   "execution_count": 34,
   "metadata": {},
   "outputs": [
    {
     "name": "stdout",
     "output_type": "stream",
     "text": [
      "   Unnamed: 0          Date/Time      Lat      Lon    Base\n",
      "0           0  4/1/2014 00:11:00  40.7690 -73.9549  B02512\n",
      "1           1  4/1/2014 00:17:00  40.7267 -74.0345  B02512\n",
      "2           2  4/1/2014 00:21:00  40.7316 -73.9873  B02512\n",
      "3           3  4/1/2014 00:28:00  40.7588 -73.9776  B02512\n",
      "4           4  4/1/2014 00:33:00  40.7594 -73.9722  B02512\n"
     ]
    }
   ],
   "source": [
    "print(uber1.head())"
   ]
  },
  {
   "cell_type": "code",
   "execution_count": 35,
   "metadata": {},
   "outputs": [
    {
     "name": "stdout",
     "output_type": "stream",
     "text": [
      "   Unnamed: 0          Date/Time      Lat      Lon    Base\n",
      "0           0  5/1/2014 00:02:00  40.7521 -73.9914  B02512\n",
      "1           1  5/1/2014 00:06:00  40.6965 -73.9715  B02512\n",
      "2           2  5/1/2014 00:15:00  40.7464 -73.9838  B02512\n",
      "3           3  5/1/2014 00:17:00  40.7463 -74.0011  B02512\n",
      "4           4  5/1/2014 00:17:00  40.7594 -73.9734  B02512\n"
     ]
    }
   ],
   "source": [
    "print(uber2.head())"
   ]
  },
  {
   "cell_type": "code",
   "execution_count": 36,
   "metadata": {},
   "outputs": [
    {
     "name": "stdout",
     "output_type": "stream",
     "text": [
      "   Unnamed: 0          Date/Time      Lat      Lon    Base\n",
      "0           0  6/1/2014 00:00:00  40.7293 -73.9920  B02512\n",
      "1           1  6/1/2014 00:01:00  40.7131 -74.0097  B02512\n",
      "2           2  6/1/2014 00:04:00  40.3461 -74.6610  B02512\n",
      "3           3  6/1/2014 00:04:00  40.7555 -73.9833  B02512\n",
      "4           4  6/1/2014 00:07:00  40.6880 -74.1831  B02512\n"
     ]
    }
   ],
   "source": [
    "print(uber3.head())"
   ]
  },
  {
   "cell_type": "code",
   "execution_count": 38,
   "metadata": {},
   "outputs": [],
   "source": [
    "# Concatenate uber1, uber2, and uber3: row_concat\n",
    "row_concat = pd.concat([uber1, uber2, uber3])"
   ]
  },
  {
   "cell_type": "code",
   "execution_count": 42,
   "metadata": {},
   "outputs": [
    {
     "name": "stdout",
     "output_type": "stream",
     "text": [
      "(282, 5)\n"
     ]
    }
   ],
   "source": [
    "# Print the shape of row_concat\n",
    "print(row_concat.shape)"
   ]
  },
  {
   "cell_type": "code",
   "execution_count": 43,
   "metadata": {},
   "outputs": [
    {
     "name": "stdout",
     "output_type": "stream",
     "text": [
      "   Unnamed: 0          Date/Time      Lat      Lon    Base\n",
      "0           0  4/1/2014 00:11:00  40.7690 -73.9549  B02512\n",
      "1           1  4/1/2014 00:17:00  40.7267 -74.0345  B02512\n",
      "2           2  4/1/2014 00:21:00  40.7316 -73.9873  B02512\n",
      "3           3  4/1/2014 00:28:00  40.7588 -73.9776  B02512\n",
      "4           4  4/1/2014 00:33:00  40.7594 -73.9722  B02512\n"
     ]
    }
   ],
   "source": [
    "# Print the head of row_concat\n",
    "print(row_concat.head())"
   ]
  },
  {
   "cell_type": "markdown",
   "metadata": {},
   "source": [
    "### Combining columns of data"
   ]
  },
  {
   "cell_type": "code",
   "execution_count": 1,
   "metadata": {},
   "outputs": [],
   "source": [
    "import pandas as pd"
   ]
  },
  {
   "cell_type": "code",
   "execution_count": 5,
   "metadata": {},
   "outputs": [],
   "source": [
    "ebola_melt = pd.read_csv('ebola_melt.csv')\n",
    "status_country = pd.read_csv('status_country.csv')"
   ]
  },
  {
   "cell_type": "code",
   "execution_count": 7,
   "metadata": {},
   "outputs": [],
   "source": [
    "# Concatenate ebola_melt and status_country column-wise: ebola_tidy\n",
    "ebola_tidy = pd.concat([ebola_melt, status_country], axis=1)"
   ]
  },
  {
   "cell_type": "code",
   "execution_count": 8,
   "metadata": {},
   "outputs": [
    {
     "name": "stdout",
     "output_type": "stream",
     "text": [
      "(1952, 8)\n"
     ]
    }
   ],
   "source": [
    "# Print the shape of ebola_tidy\n",
    "print(ebola_tidy.shape)"
   ]
  },
  {
   "cell_type": "code",
   "execution_count": 9,
   "metadata": {},
   "outputs": [
    {
     "name": "stdout",
     "output_type": "stream",
     "text": [
      "   Unnamed: 0        Date  Day  type_country  counts  Unnamed: 0   type  \\\n",
      "0           0    1/5/2015  289  Cases_Guinea  2776.0           0  Cases   \n",
      "1           1    1/4/2015  288  Cases_Guinea  2775.0           1  Cases   \n",
      "2           2    1/3/2015  287  Cases_Guinea  2769.0           2  Cases   \n",
      "3           3    1/2/2015  286  Cases_Guinea     NaN           3  Cases   \n",
      "4           4  12/31/2014  284  Cases_Guinea  2730.0           4  Cases   \n",
      "\n",
      "  country  \n",
      "0  Guinea  \n",
      "1  Guinea  \n",
      "2  Guinea  \n",
      "3  Guinea  \n",
      "4  Guinea  \n"
     ]
    }
   ],
   "source": [
    "# Print the head of ebola_tidy\n",
    "print(ebola_tidy.head())"
   ]
  },
  {
   "cell_type": "code",
   "execution_count": null,
   "metadata": {},
   "outputs": [],
   "source": []
  }
 ],
 "metadata": {
  "kernelspec": {
   "display_name": "Python 3",
   "language": "python",
   "name": "python3"
  },
  "language_info": {
   "codemirror_mode": {
    "name": "ipython",
    "version": 3
   },
   "file_extension": ".py",
   "mimetype": "text/x-python",
   "name": "python",
   "nbconvert_exporter": "python",
   "pygments_lexer": "ipython3",
   "version": "3.6.7"
  }
 },
 "nbformat": 4,
 "nbformat_minor": 2
}
