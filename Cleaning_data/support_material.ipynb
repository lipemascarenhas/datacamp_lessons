{
 "cells": [
  {
   "cell_type": "markdown",
   "metadata": {},
   "source": [
    "### Finding files that match a pattern"
   ]
  },
  {
   "cell_type": "code",
   "execution_count": 2,
   "metadata": {},
   "outputs": [
    {
     "name": "stdout",
     "output_type": "stream",
     "text": [
      "Esse código não roda, pois é somente um exemplo\n"
     ]
    },
    {
     "data": {
      "text/plain": [
       "\"\\n# Import necessary modules\\nimport glob\\nimport pandas as pd\\n\\n# Write the pattern: pattern\\npattern = '*.csv'\\n\\n# Save all file matches: csv_files\\ncsv_files = glob.glob(pattern)\\n\\n# Print the file names\\nprint(csv_files)\\n\\n# Load the second file into a DataFrame: csv2\\ncsv2 = pd.read_csv(csv_files[1])\\n\\n# Print the head of csv2\\nprint(csv2.head())\\n\""
      ]
     },
     "execution_count": 2,
     "metadata": {},
     "output_type": "execute_result"
    }
   ],
   "source": [
    "print('Esse código não roda, pois é somente um exemplo')\n",
    "'''\n",
    "# Import necessary modules\n",
    "import glob\n",
    "import pandas as pd\n",
    "\n",
    "# Write the pattern: pattern\n",
    "pattern = '*.csv'\n",
    "\n",
    "# Save all file matches: csv_files\n",
    "csv_files = glob.glob(pattern)\n",
    "\n",
    "# Print the file names\n",
    "print(csv_files)\n",
    "\n",
    "# Load the second file into a DataFrame: csv2\n",
    "csv2 = pd.read_csv(csv_files[1])\n",
    "\n",
    "# Print the head of csv2\n",
    "print(csv2.head())\n",
    "'''"
   ]
  },
  {
   "cell_type": "code",
   "execution_count": 1,
   "metadata": {},
   "outputs": [
    {
     "name": "stdout",
     "output_type": "stream",
     "text": [
      "Esse código não roda, pois é somente um exemplo\n"
     ]
    },
    {
     "data": {
      "text/plain": [
       "'\\n# Create an empty list: frames\\nframes = []\\n\\n#  Iterate over csv_files\\nfor csv in csv_files:\\n    #  Read csv into a DataFrame: df\\n    df = pd.read_csv(csv)\\n    \\n    # Append df to frames\\n    frames.append(df)\\n\\n# Concatenate frames into a single DataFrame: uber\\nuber = pd.concat(frames)\\n\\n# Print the shape of uber\\nprint(uber.shape)\\n\\n# Print the head of uber\\nprint(uber.head())\\n'"
      ]
     },
     "execution_count": 1,
     "metadata": {},
     "output_type": "execute_result"
    }
   ],
   "source": [
    "print('Esse código não roda, pois é somente um exemplo')\n",
    "'''\n",
    "# Create an empty list: frames\n",
    "frames = []\n",
    "\n",
    "#  Iterate over csv_files\n",
    "for csv in csv_files:\n",
    "    #  Read csv into a DataFrame: df\n",
    "    df = pd.read_csv(csv)\n",
    "    \n",
    "    # Append df to frames\n",
    "    frames.append(df)\n",
    "\n",
    "# Concatenate frames into a single DataFrame: uber\n",
    "uber = pd.concat(frames)\n",
    "\n",
    "# Print the shape of uber\n",
    "print(uber.shape)\n",
    "\n",
    "# Print the head of uber\n",
    "print(uber.head())\n",
    "'''"
   ]
  },
  {
   "cell_type": "markdown",
   "metadata": {},
   "source": [
    "### 1-to-1 data merge"
   ]
  },
  {
   "cell_type": "code",
   "execution_count": 2,
   "metadata": {},
   "outputs": [
    {
     "name": "stdout",
     "output_type": "stream",
     "text": [
      "Esse código não roda, pois é somente um exemplo\n"
     ]
    },
    {
     "data": {
      "text/plain": [
       "\"\\n# Merge the DataFrames: o2o\\no2o = pd.merge(left=site, right=visited, left_on='name', right_on='site')\\n\\n# Print o2o\\nprint(o2o)\\n\\n\""
      ]
     },
     "execution_count": 2,
     "metadata": {},
     "output_type": "execute_result"
    }
   ],
   "source": [
    "print('Esse código não roda, pois é somente um exemplo')\n",
    "'''\n",
    "# Merge the DataFrames: o2o\n",
    "o2o = pd.merge(left=site, right=visited, left_on='name', right_on='site')\n",
    "\n",
    "# Print o2o\n",
    "print(o2o)\n",
    "\n",
    "'''"
   ]
  },
  {
   "cell_type": "markdown",
   "metadata": {},
   "source": [
    "### Many-to-1 data merge"
   ]
  },
  {
   "cell_type": "code",
   "execution_count": 3,
   "metadata": {},
   "outputs": [
    {
     "name": "stdout",
     "output_type": "stream",
     "text": [
      "Esse código não roda, pois é somente um exemplo\n"
     ]
    },
    {
     "data": {
      "text/plain": [
       "\"\\n# Merge the DataFrames: m2o\\nm2o = pd.merge(left=site, right=visited, left_on='name', right_on='site')\\n\\n# Print m2o\\nprint(m2o)\\n\""
      ]
     },
     "execution_count": 3,
     "metadata": {},
     "output_type": "execute_result"
    }
   ],
   "source": [
    "print('Esse código não roda, pois é somente um exemplo')\n",
    "'''\n",
    "# Merge the DataFrames: m2o\n",
    "m2o = pd.merge(left=site, right=visited, left_on='name', right_on='site')\n",
    "\n",
    "# Print m2o\n",
    "print(m2o)\n",
    "'''"
   ]
  },
  {
   "cell_type": "markdown",
   "metadata": {},
   "source": [
    "### Many-to-many data merge"
   ]
  },
  {
   "cell_type": "code",
   "execution_count": 1,
   "metadata": {},
   "outputs": [
    {
     "name": "stdout",
     "output_type": "stream",
     "text": [
      "Esse código não roda, pois é somente um exemplo\n"
     ]
    },
    {
     "data": {
      "text/plain": [
       "\"\\n# Merge site and visited: m2m\\nm2m = pd.merge(left=site, right=visited, left_on='name', right_on='site')\\n\\n# Merge m2m and survey: m2m\\nm2m = pd.merge(left=m2m, right=survey, left_on='ident', right_on='taken')\\n\\n# Print the first 20 lines of m2m\\nprint(m2m.head(20))\\n\""
      ]
     },
     "execution_count": 1,
     "metadata": {},
     "output_type": "execute_result"
    }
   ],
   "source": [
    "print('Esse código não roda, pois é somente um exemplo')\n",
    "'''\n",
    "# Merge site and visited: m2m\n",
    "m2m = pd.merge(left=site, right=visited, left_on='name', right_on='site')\n",
    "\n",
    "# Merge m2m and survey: m2m\n",
    "m2m = pd.merge(left=m2m, right=survey, left_on='ident', right_on='taken')\n",
    "\n",
    "# Print the first 20 lines of m2m\n",
    "print(m2m.head(20))\n",
    "'''"
   ]
  }
 ],
 "metadata": {
  "kernelspec": {
   "display_name": "Python 3",
   "language": "python",
   "name": "python3"
  },
  "language_info": {
   "codemirror_mode": {
    "name": "ipython",
    "version": 3
   },
   "file_extension": ".py",
   "mimetype": "text/x-python",
   "name": "python",
   "nbconvert_exporter": "python",
   "pygments_lexer": "ipython3",
   "version": "3.6.7"
  }
 },
 "nbformat": 4,
 "nbformat_minor": 2
}
